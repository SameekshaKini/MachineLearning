{
 "cells": [
  {
   "cell_type": "markdown",
   "metadata": {},
   "source": [
    "## Name: Sameeksha Kini\n",
    "\n",
    "## Roll No: J029"
   ]
  },
  {
   "cell_type": "markdown",
   "metadata": {},
   "source": [
    "### Day 0: Hello, World\n",
    "To complete this challenge, you must save a line of input from stdin to a variable, print Hello, World. on a single line, and finally print the value of your variable on a second line.\n",
    "\n",
    "Sample Input\n",
    "\n",
    "Welcome to 30 Days of Code!"
   ]
  },
  {
   "cell_type": "code",
   "execution_count": 2,
   "metadata": {},
   "outputs": [
    {
     "name": "stdout",
     "output_type": "stream",
     "text": [
      "Hello, World. \n",
      "Welcome to 30 Days of Code!\n"
     ]
    }
   ],
   "source": [
    "print(\"Hello, World. \\nWelcome to 30 Days of Code!\")"
   ]
  },
  {
   "cell_type": "markdown",
   "metadata": {},
   "source": [
    "### Day 1: Data Types\n",
    "Complete the code in the editor below. The variables i, d and s are already declared and initialized for you. You must:\n",
    "\n",
    "1.Declare 3 variables: one of type int, one of type double, and one of type String.\n",
    "2.Read 3 lines of input from stdin (according to the sequence given in the Input Format section below) and initialize your 3 variables.\n",
    "3.Use the + operator to perform the following operations:\n",
    "* Print the sum of i plus your int variable on a new line.\n",
    "* Print the sum of d plus your double variable to a scale of one decimal place on a new line.\n",
    "* Concatenate s with the string you read as input and print the result on a new line."
   ]
  },
  {
   "cell_type": "code",
   "execution_count": 1,
   "metadata": {},
   "outputs": [
    {
     "name": "stdout",
     "output_type": "stream",
     "text": [
      "Enter a number: 12\n",
      "Enter a number: 4.0\n",
      "Enter a string: is the best place to learn and practice coding!\n",
      "16\n",
      "8.0\n",
      "HackerRank is the best place to learn and practice coding!\n"
     ]
    }
   ],
   "source": [
    "i = 4\n",
    "d = 4.0\n",
    "s = \"HackerRank \"\n",
    "\n",
    "a = int(input(\"Enter a number: \"))\n",
    "b = float(input(\"Enter a number: \"))\n",
    "c = str(input(\"Enter a string: \"))\n",
    "\n",
    "print(i + a)\n",
    "print(d + b)\n",
    "print(s + c)"
   ]
  },
  {
   "cell_type": "markdown",
   "metadata": {},
   "source": [
    "### Day 2: Arithmetic!\n",
    "Given the meal price (base cost of a meal), tip percent (the percentage of the meal price being added as tip), and tax percent (the percentage of the meal price being added as tax) for a meal, find and print the meal's total cost. Round the result to the nearest integer.\n",
    "\n",
    "Sample Input\n",
    "\n",
    "12.00\n",
    "\n",
    "20\n",
    "\n",
    "8"
   ]
  },
  {
   "cell_type": "code",
   "execution_count": 5,
   "metadata": {},
   "outputs": [
    {
     "name": "stdout",
     "output_type": "stream",
     "text": [
      "Enter the meal price: 12.00\n",
      "Enter the tip percent: 20\n",
      "Enter the tax percent:8\n",
      "The total meal cost is:  15.36\n"
     ]
    },
    {
     "data": {
      "text/plain": [
       "15"
      ]
     },
     "execution_count": 5,
     "metadata": {},
     "output_type": "execute_result"
    }
   ],
   "source": [
    "meal_cost = float(input(\"Enter the meal price: \"))\n",
    "tip_percent = int(input(\"Enter the tip percent: \"))\n",
    "tax_percent = int(input(\"Enter the tax percent:\"))\n",
    "\n",
    "tip = meal_cost * tip_percent /100\n",
    "tax = meal_cost * tax_percent /100\n",
    "tot_cost = meal_cost + tip + tax\n",
    "\n",
    "print(\"The total meal cost is: \",tot_cost)\n",
    "round(tot_cost)"
   ]
  },
  {
   "cell_type": "markdown",
   "metadata": {},
   "source": [
    "### Day 3: Intro to Conditional Statements\n",
    "Given an integer,n, perform the following conditional actions:\n",
    "\n",
    "If n is odd, print Weird\n",
    "If n is even and in the inclusive range of 2 to 5, print Not Weird\n",
    "If n is even and in the inclusive range of 6 to 20, print Weird\n",
    "If n is even and greater than 20, print Not Weird\n",
    "\n",
    "Sample Input 0\n",
    "\n",
    "3"
   ]
  },
  {
   "cell_type": "code",
   "execution_count": 2,
   "metadata": {},
   "outputs": [
    {
     "name": "stdout",
     "output_type": "stream",
     "text": [
      "Enter an integer: 3\n",
      "Weird\n"
     ]
    }
   ],
   "source": [
    "n = int(input(\"Enter an integer: \"))\n",
    "if n%2 != 0:\n",
    "    print(\"Weird\")\n",
    "else:\n",
    "    if n<=5:\n",
    "        print(\"Not Weird\")\n",
    "    elif n<=20:\n",
    "        print(\"Weird\")\n",
    "    else:\n",
    "        print(\"Not Weird\")"
   ]
  },
  {
   "cell_type": "markdown",
   "metadata": {},
   "source": [
    "### Day 4: Class vs. Instance\n",
    "Write a Person class with an instance variable, age, and a constructor that takes an integer,initialAge , as a parameter. The constructor must assign initialAge to age after confirming the argument passed as initialAge is not negative; if a negative argument is passed as initialAge, the constructor should set age to 0 and print Age is not valid, setting age to 0.. In addition, you must write the following instance methods:\n",
    "\n",
    "1.YearPasses() should increase the age instance variable by 1.\n",
    "2.AmIOld() should perform the following conditional actions:\n",
    "* If age < 13, print You are young..\n",
    "* If age >= 13 and age < 18, print You are a teenager..\n",
    "* Otherwise, print You are old..\n",
    "\n",
    "Sample Input\n",
    "\n",
    "18\n",
    "\n",
    "12"
   ]
  },
  {
   "cell_type": "code",
   "execution_count": null,
   "metadata": {},
   "outputs": [
    {
     "name": "stdout",
     "output_type": "stream",
     "text": [
      "18\n",
      "12\n",
      "You are young.\n",
      "You are a teenager.\n",
      "\n"
     ]
    }
   ],
   "source": [
    "class Person:\n",
    "    def __init__(self, initialAge):\n",
    "        if(initialAge > 0):\n",
    "            self.age = initialAge\n",
    "        else:\n",
    "            print(\"Age is not valid, setting age to 0.\")\n",
    "            self.age = 0\n",
    "            \n",
    "    def AmIOld(self):\n",
    "        if self.age >= 18:\n",
    "            print(\"You are old.\")\n",
    "        elif self.age >= 13:\n",
    "            print(\"You are a teenager.\")\n",
    "        else:\n",
    "            print(\"You are young.\")\n",
    "            \n",
    "    def YearPasses(self):\n",
    "        self.age += 1\n",
    "        \n",
    "t = int(input())\n",
    "for i in range(0, t):\n",
    "    age = int(input())\n",
    "    p = Person(age)\n",
    "    p.AmIOld()\n",
    "    for j in range(0, 3):\n",
    "        p.YearPasses()\n",
    "    p.AmIOld()\n",
    "    print(\"\")   "
   ]
  },
  {
   "cell_type": "markdown",
   "metadata": {},
   "source": [
    "### Day 5: Loops\n",
    "Given an integer, n, print its first 10 multiples. Each multiple n*i (where 1<=i<=10) should be printed on a new line in the form: n x i = result.\n",
    "\n",
    "Sample Input\n",
    "\n",
    "2"
   ]
  },
  {
   "cell_type": "code",
   "execution_count": 3,
   "metadata": {},
   "outputs": [
    {
     "name": "stdout",
     "output_type": "stream",
     "text": [
      "2\n",
      "2*1=2\n",
      "2*2=4\n",
      "2*3=6\n",
      "2*4=8\n",
      "2*5=10\n",
      "2*6=12\n",
      "2*7=14\n",
      "2*8=16\n",
      "2*9=18\n",
      "2*10=20\n"
     ]
    }
   ],
   "source": [
    "n = int(input())\n",
    "for i in range(1, 11):\n",
    "    print(str(n) + \"*\" + str(i) + \"=\" + str(n*i))"
   ]
  },
  {
   "cell_type": "markdown",
   "metadata": {},
   "source": [
    "### Day 6: Let's Review\n",
    "Given a string,S , of length N that is indexed from 0  to N-1, print its even-indexed and odd-indexed characters as 2 space-separated strings on a single line (see the Sample below for more detail).\n",
    "Note:  is considered to be an even index.\n",
    "\n",
    "Sample Input\n",
    "\n",
    "2\n",
    "\n",
    "Hacker\n",
    "\n",
    "Rank"
   ]
  },
  {
   "cell_type": "code",
   "execution_count": 9,
   "metadata": {},
   "outputs": [
    {
     "name": "stdout",
     "output_type": "stream",
     "text": [
      "Enter a string: rank\n",
      " rn ak\n"
     ]
    }
   ],
   "source": [
    "S = input(\"Enter a string: \")\n",
    "N = len(S)\n",
    "even = \" \"\n",
    "odd = \" \"\n",
    "if N < 2:\n",
    "    print(\"Error!A longer string needs to be entered!\")\n",
    "else:\n",
    "    for i in  range(0, N):\n",
    "        if i%2 == 0:\n",
    "            even += S[i]\n",
    "        else:\n",
    "            odd += S[i]\n",
    "    print(even + odd)\n",
    " "
   ]
  },
  {
   "cell_type": "markdown",
   "metadata": {},
   "source": [
    "### Day 7: Arrays\n",
    "Given an array, A, of N integers, print A's elements in reverse order as a single line of space-separated numbers.\n",
    "\n",
    "Sample Input\n",
    "\n",
    "4\n",
    "\n",
    "1 4 3 2"
   ]
  },
  {
   "cell_type": "code",
   "execution_count": 1,
   "metadata": {},
   "outputs": [
    {
     "name": "stdout",
     "output_type": "stream",
     "text": [
      "Enter array numbers: 7 2 4 3\n",
      "3   4   2   7 \n"
     ]
    }
   ],
   "source": [
    "A = list(input(\"Enter array numbers: \"))\n",
    "my_array = \"\"\n",
    "if len(A) <= 1:\n",
    "    print(\"Error!\")\n",
    "else:\n",
    "    for i in range(len(A) - 1, - 1, -1):\n",
    "        my_array += A[i] + \" \"\n",
    "    print(my_array) "
   ]
  },
  {
   "cell_type": "markdown",
   "metadata": {},
   "source": [
    "### Day 8: Dictionaries and Maps"
   ]
  },
  {
   "cell_type": "code",
   "execution_count": 18,
   "metadata": {},
   "outputs": [
    {
     "name": "stdout",
     "output_type": "stream",
     "text": [
      "3\n",
      "sam 99912222\n",
      "tom 11122222\n",
      "harry 12299933\n",
      "sam\n",
      "sam = 99912222\n",
      "edward\n",
      "Not Found!\n"
     ]
    }
   ],
   "source": [
    "n = int(input())\n",
    "name_numbers = [input().split() for _ in range(n)]\n",
    "phone_book = {k : v for k, v in name_numbers}\n",
    "i = 0\n",
    "while i < n:\n",
    "    name = input()\n",
    "    if name in phone_book:\n",
    "        print('%s = %s' % (name, phone_book[name]))\n",
    "    else:\n",
    "        print('Not Found!')\n",
    "        break"
   ]
  },
  {
   "cell_type": "markdown",
   "metadata": {},
   "source": [
    "### Day 9:Recursion"
   ]
  },
  {
   "cell_type": "code",
   "execution_count": 2,
   "metadata": {},
   "outputs": [
    {
     "name": "stdout",
     "output_type": "stream",
     "text": [
      "Enter a number: 4\n",
      "Factorial is 24\n"
     ]
    }
   ],
   "source": [
    "def factorial(n):\n",
    "    if n == 0:\n",
    "        return 1\n",
    "    else:\n",
    "        return n*factorial(n-1)\n",
    "    \n",
    "num = int(input(\"Enter a number: \")) \n",
    "print(\"Factorial is\", factorial(num))"
   ]
  },
  {
   "cell_type": "markdown",
   "metadata": {},
   "source": [
    "### Day 10: Binary Numbers\n",
    "Given a base-10 integer,n , convert it to binary (base-2). Then find and print the base-10 integer denoting the maximum number of consecutive 1's in n's binary representation. When working with different bases, it is common to show the base as a subscript.\n"
   ]
  },
  {
   "cell_type": "code",
   "execution_count": 2,
   "metadata": {},
   "outputs": [
    {
     "name": "stdout",
     "output_type": "stream",
     "text": [
      "15\n",
      "4\n"
     ]
    }
   ],
   "source": [
    "n = int(input())\n",
    "count = 0\n",
    "while n:\n",
    "    n = n & (n << 1)\n",
    "    count += 1\n",
    "print(count)"
   ]
  },
  {
   "cell_type": "markdown",
   "metadata": {},
   "source": [
    "### Day 11: 2D Arrays"
   ]
  },
  {
   "cell_type": "code",
   "execution_count": 2,
   "metadata": {},
   "outputs": [
    {
     "name": "stdout",
     "output_type": "stream",
     "text": [
      "1 1 1 0 0 0\n",
      "0 1 0 0 0 0\n",
      "1 1 1 0 0 0\n",
      "0 0 2 4 4 0\n",
      "0 0 0 2 0 0\n",
      "0 0 1 2 4 0\n",
      "19\n"
     ]
    }
   ],
   "source": [
    "import sys\n",
    "\n",
    "\n",
    "arr = []\n",
    "for arr_i in range(6):\n",
    "       arr_temp = list(map(int,input().strip().split(' ')))\n",
    "       arr.append(arr_temp)\n",
    "max = 0\n",
    "\n",
    "for i in range(0,4):\n",
    "    for j in range(0,4):\n",
    "        sum = 0\n",
    "        sum= arr[i][j]+arr[i][j+1]+arr[i][j+2]+arr[i+1][j+1]+arr[i+2][j]+arr[i+2][j+1]+arr[i+2][j+2]\n",
    "        if i==0 and j==0:\n",
    "            max = sum\n",
    "        if sum > max:\n",
    "            max =sum\n",
    "\n",
    "print(max)"
   ]
  },
  {
   "cell_type": "markdown",
   "metadata": {},
   "source": [
    "### Day 12: Inheritance"
   ]
  },
  {
   "cell_type": "code",
   "execution_count": 7,
   "metadata": {},
   "outputs": [
    {
     "name": "stdout",
     "output_type": "stream",
     "text": [
      "Heraldo Memelli 8135627\n",
      "2\n",
      "100 80\n",
      "Name:  Heraldo, Memelli\n",
      "ID:  8135627\n",
      "Grade:  O\n"
     ]
    }
   ],
   "source": [
    "class Person():\n",
    "    def __init__(self, firstName, lastName, idNumber):\n",
    "        self.firstName = firstName\n",
    "        self.lastName = lastName\n",
    "        self.idNumber = idNumber\n",
    "        \n",
    "    def printPerson(self):\n",
    "        print(\"Name: \", self.firstName + \",\", self.lastName)\n",
    "        print(\"ID: \", self.idNumber)\n",
    "\n",
    "        \n",
    "class Student(Person):\n",
    "    def __init__(self, firstName, lastName, idNumber, scores):\n",
    "        super().__init__(firstName, lastName, idNumber)\n",
    "        self.scores = scores\n",
    "        \n",
    "    def average(self):\n",
    "        total = 0.0\n",
    "        \n",
    "        for score in self.scores:\n",
    "            total += score\n",
    "        \n",
    "        avg = total/len(self.scores)\n",
    "    \n",
    "        if 90 <= avg <= 100:\n",
    "            return 'O'\n",
    "        if 80 <= avg < 90:\n",
    "            return 'E'\n",
    "        if 70 <= avg < 80:\n",
    "            return 'A'\n",
    "        if 55 <= avg < 70:\n",
    "            return 'P'\n",
    "        if 40 <= avg < 55:\n",
    "            return 'D'\n",
    "        return 'T'\n",
    "    \n",
    "line = input().split()\n",
    "firstName = line[0]\n",
    "lastName = line[1]    \n",
    "idNumber = line[2]\n",
    "numscores = int(input())\n",
    "scores = list(map(int, input().split()))\n",
    "s = Student(firstName, lastName, idNumber, scores)\n",
    "s.printPerson()\n",
    "print(\"Grade: \", s.average())"
   ]
  },
  {
   "cell_type": "markdown",
   "metadata": {},
   "source": [
    "### Day 13: Abstract Classes"
   ]
  },
  {
   "cell_type": "code",
   "execution_count": 7,
   "metadata": {},
   "outputs": [
    {
     "name": "stdout",
     "output_type": "stream",
     "text": [
      "Enter Title: The Alchemist\n",
      "Enter Author: Paulo Coelho\n",
      "Enter Price: 248\n",
      "Title:  The Alchemist\n",
      "Author:  Paulo Coelho\n",
      "Price:  248\n"
     ]
    }
   ],
   "source": [
    "class Book:\n",
    "    def __init__(self, title, author):\n",
    "        self.title = title\n",
    "        self.author = author\n",
    "    \n",
    "class MyBook(Book):\n",
    "    def __init__(self, title, author, price):\n",
    "        super().__init__(title, author)\n",
    "        self.price = price\n",
    "        \n",
    "    def display(self):\n",
    "        print(\"Title: \", self.title)\n",
    "        print(\"Author: \", self.author)\n",
    "        print(\"Price: \", self.price)\n",
    "        \n",
    "title = input(\"Enter Title: \")\n",
    "author = input(\"Enter Author: \")\n",
    "price = input(\"Enter Price: \")\n",
    "new_novel = MyBook(title, author, price)\n",
    "new_novel.display()"
   ]
  },
  {
   "cell_type": "markdown",
   "metadata": {},
   "source": [
    "### Day 14: Scope\n",
    "Complete the Difference class by writing the following:\n",
    "\n",
    "A class constructor that takes an array of integers as a parameter and saves it to the __elements instance variable.\n",
    "\n",
    "A computeDifference method that finds the maximum absolute difference between any 2 numbers in __elements and stores it in the maximumDifference instance variable.\n",
    "\n",
    "Sample Output\n",
    "\n",
    "4"
   ]
  },
  {
   "cell_type": "code",
   "execution_count": 12,
   "metadata": {},
   "outputs": [
    {
     "name": "stdout",
     "output_type": "stream",
     "text": [
      "3\n",
      "1 2 5\n",
      "4\n"
     ]
    }
   ],
   "source": [
    "class Difference:\n",
    "    def __init__(self, a):\n",
    "        self.__elements = a\n",
    "\n",
    "    def computeDifference(self):\n",
    "        maximum = 0\n",
    "\n",
    "        for i in range(len(self.__elements)):\n",
    "            for j in range(len(self.__elements)):\n",
    "                absolute = abs(self.__elements[i] - self.__elements[j])\n",
    "                if absolute > maximum:\n",
    "                    maximum = absolute\n",
    "\n",
    "        self.maximumDifference = maximum\n",
    "\n",
    "\n",
    "_ = input()\n",
    "a = [int(e) for e in input().split(' ')]\n",
    "\n",
    "d = Difference(a)\n",
    "d.computeDifference()\n",
    "\n",
    "print(d.maximumDifference)"
   ]
  },
  {
   "cell_type": "markdown",
   "metadata": {},
   "source": [
    "### Day 15: Linked List"
   ]
  },
  {
   "cell_type": "code",
   "execution_count": 15,
   "metadata": {},
   "outputs": [
    {
     "name": "stdout",
     "output_type": "stream",
     "text": [
      "4\n",
      "2\n",
      "3\n",
      "4\n",
      "1\n",
      "2 3 4 1 "
     ]
    }
   ],
   "source": [
    "class Node:\n",
    "    def __init__(self, data):\n",
    "        self.data = data\n",
    "        self.next = None\n",
    "\n",
    "\n",
    "class Solution:\n",
    "    def display(self, head):\n",
    "        current = head\n",
    "        while current:\n",
    "            print(current.data, end=' ')\n",
    "            current = current.next\n",
    "\n",
    "    def insert(self, head, data):\n",
    "        if head is None:\n",
    "            head = Node(data)\n",
    "        else:\n",
    "            curr = head\n",
    "            while curr.next:\n",
    "                curr = curr.next\n",
    "            curr.next = Node(data)\n",
    "        return head\n",
    "\n",
    "\n",
    "mylist = Solution()\n",
    "T = int(input())\n",
    "head = None\n",
    "for i in range(T):\n",
    "    data = int(input())\n",
    "    head = mylist.insert(head, data)\n",
    "mylist.display(head)"
   ]
  },
  {
   "cell_type": "markdown",
   "metadata": {},
   "source": [
    "### Day 16: Exceptions - String to Integer"
   ]
  },
  {
   "cell_type": "code",
   "execution_count": 20,
   "metadata": {},
   "outputs": [
    {
     "name": "stdout",
     "output_type": "stream",
     "text": [
      "HIvysP\n",
      "Bad string!\n"
     ]
    }
   ],
   "source": [
    "try:\n",
    "    print(int(input().strip()))\n",
    "    \n",
    "except ValueError:\n",
    "    print('Bad string!')"
   ]
  },
  {
   "cell_type": "markdown",
   "metadata": {},
   "source": [
    "### Day 17: More Exceptions\n",
    "Write a Calculator class with a single method: int power(int,int). The power method takes two integers, n and p, as parameters and returns the integer result of n^p. If either n or p is negative, then the method must throw an exception with the message: n and p should be non-negative.\n",
    "\n",
    "Sample Input\n",
    "\n",
    "4\n",
    "\n",
    "3 5\n",
    "\n",
    "2 4\n",
    "\n",
    "-1 -2\n",
    "\n",
    "-1 3\n",
    "\n",
    "Sample Output\n",
    "\n",
    "243\n",
    "\n",
    "16\n",
    "\n",
    "n and p should be non-negative\n",
    "\n",
    "n and p should be non-negative"
   ]
  },
  {
   "cell_type": "code",
   "execution_count": 9,
   "metadata": {},
   "outputs": [
    {
     "name": "stdout",
     "output_type": "stream",
     "text": [
      "4\n",
      "3 5\n",
      "243\n",
      "2 4\n",
      "16\n",
      "-1 -2\n",
      "n and p should be non-negative\n",
      "-1 3\n",
      "n and p should be non-negative\n"
     ]
    }
   ],
   "source": [
    "class Calculator(Exception):\n",
    "    def power(self, n, p):\n",
    "        if n < 0 or p < 0:\n",
    "            raise Exception(\"n and p should be non-negative\")\n",
    "        else:\n",
    "            return pow(n, p)\n",
    "    \n",
    "myCal = Calculator()\n",
    "t = int(input())\n",
    "for i in range(t):\n",
    "    n, p = map(int, input().split())\n",
    "    try:\n",
    "        ans = myCal.power(n, p)\n",
    "        print(ans)\n",
    "    except Exception as e:\n",
    "        print(e)"
   ]
  },
  {
   "cell_type": "markdown",
   "metadata": {},
   "source": [
    "### Day 18: Queues and Stacks"
   ]
  },
  {
   "cell_type": "code",
   "execution_count": 26,
   "metadata": {},
   "outputs": [
    {
     "name": "stdout",
     "output_type": "stream",
     "text": [
      "madam\n",
      "The word, madam, is a palindrome.\n"
     ]
    }
   ],
   "source": [
    "class Solution:\n",
    "    def __init__(self):\n",
    "        self.stack = []\n",
    "        self.queue = []\n",
    "\n",
    "    def pop(self):\n",
    "        return self.stack.pop()\n",
    "\n",
    "    def push(self, char):\n",
    "        self.stack.append(char)\n",
    "\n",
    "    def dequeue(self):\n",
    "        char = self.queue[0]\n",
    "        self.queue = self.queue[1:]\n",
    "        return char\n",
    "\n",
    "    def enqueue(self, char):\n",
    "        self.queue.append(char)\n",
    "\n",
    "s = input()\n",
    "\n",
    "obj = Solution()\n",
    "\n",
    "l = len(s)\n",
    "\n",
    "for i in range(l):\n",
    "    obj.push(s[i])\n",
    "    obj.enqueue(s[i])\n",
    "\n",
    "isPalindrome = True\n",
    "\n",
    "for i in range(l // 2):\n",
    "    if obj.pop() != obj.dequeue():\n",
    "        isPalindrome = False\n",
    "        break\n",
    "\n",
    "if isPalindrome:\n",
    "    print(\"The word, \" + s + \", is a palindrome.\")\n",
    "else:\n",
    "    print(\"The word, \" + s + \", is not a palindrome.\")"
   ]
  },
  {
   "cell_type": "markdown",
   "metadata": {},
   "source": [
    "### Day 19: Interfaces\n",
    "The AdvancedArithmetic interface and the method declaration for the abstract divisorSum(n) method are provided for you in the editor below.\n",
    "\n",
    "Complete the implementation of Calculator class, which implements the AdvancedArithmetic interface. The implementation for the divisorSum(n) method must return the sum of all divisors of n.\n",
    "\n",
    "Sample Output\n",
    "\n",
    "I implemented: AdvancedArithmetic\n",
    "\n",
    "12"
   ]
  },
  {
   "cell_type": "code",
   "execution_count": 11,
   "metadata": {},
   "outputs": [
    {
     "name": "stdout",
     "output_type": "stream",
     "text": [
      "6\n",
      "I implemented: AdvancedArithmetic\n",
      "12\n"
     ]
    }
   ],
   "source": [
    "class AdvancedArithmetic(object):\n",
    "    def divisorSum(n):\n",
    "        raise NotImplementedError\n",
    "\n",
    "\n",
    "class Calculator(AdvancedArithmetic):\n",
    "    def divisorSum(self, n):\n",
    "        s = 0\n",
    "        for i in range(1,n+1):\n",
    "            if (n%i == 0):\n",
    "                s+=i\n",
    "        return s\n",
    "\n",
    "\n",
    "n = int(input())\n",
    "\n",
    "myCalculator = Calculator()\n",
    "s = myCalculator.divisorSum(n)\n",
    "print(\"I implemented: \" + type(myCalculator).__bases__[0].__name__)\n",
    "print(s)"
   ]
  },
  {
   "cell_type": "markdown",
   "metadata": {},
   "source": [
    "### Day 20: Sorting"
   ]
  },
  {
   "cell_type": "code",
   "execution_count": 15,
   "metadata": {},
   "outputs": [
    {
     "name": "stdout",
     "output_type": "stream",
     "text": [
      "3\n",
      "1 2 3\n",
      "Array is sorted in 0 steps.\n",
      "First Element: 1\n",
      "Last Element: 3\n"
     ]
    }
   ],
   "source": [
    "import sys\n",
    "n = int(input())\n",
    "my_array = [int(x) for x in input().split(' ')]\n",
    "no_swaps = 0\n",
    "for i in range(0, n):\n",
    "    for j in range(0, n - 1):\n",
    "        if my_array[j] > my_array[j + 1]:\n",
    "            temp = my_array[j]\n",
    "            my_array[j] = my_array[j + 1]\n",
    "            my_array[j+1] = temp\n",
    "            no_swaps += 1\n",
    "    \n",
    "    if no_swaps == 0:\n",
    "        break\n",
    "print('Array is sorted in ' + str(no_swaps) +' steps.')\n",
    "print('First Element: ' + str(my_array[0]))\n",
    "print('Last Element: '+ str(my_array[len(my_array) - 1]))"
   ]
  },
  {
   "cell_type": "markdown",
   "metadata": {},
   "source": [
    "### Day 21: Generics"
   ]
  },
  {
   "cell_type": "code",
   "execution_count": null,
   "metadata": {},
   "outputs": [],
   "source": []
  },
  {
   "cell_type": "markdown",
   "metadata": {},
   "source": [
    "### Day 22: Binary Search Trees"
   ]
  },
  {
   "cell_type": "code",
   "execution_count": 1,
   "metadata": {},
   "outputs": [
    {
     "name": "stdout",
     "output_type": "stream",
     "text": [
      "7\n",
      "3\n",
      "5\n",
      "2\n",
      "1\n",
      "4\n",
      "6\n",
      "7\n",
      "3\n"
     ]
    }
   ],
   "source": [
    "class Node:\n",
    "    def __init__(self, data):\n",
    "        self.right = self.left = None\n",
    "        self.data = data\n",
    "\n",
    "\n",
    "class Solution:\n",
    "    def insert(self, root, data):\n",
    "        if root is None:\n",
    "            return Node(data)\n",
    "        else:\n",
    "            if data <= root.data:\n",
    "                cur = self.insert(root.left, data)\n",
    "                root.left = cur\n",
    "            else:\n",
    "                cur = self.insert(root.right, data)\n",
    "                root.right = cur\n",
    "        return root\n",
    "\n",
    "    def getHeight(self, root):\n",
    "        return -1 if root is None else 1 + max(self.getHeight(root.left), self.getHeight(root.right))\n",
    "\n",
    "\n",
    "T = int(input())\n",
    "myTree = Solution()\n",
    "root = None\n",
    "for i in range(T):\n",
    "    data = int(input())\n",
    "    root = myTree.insert(root, data)\n",
    "height = myTree.getHeight(root)\n",
    "print(height)"
   ]
  },
  {
   "cell_type": "markdown",
   "metadata": {},
   "source": [
    "### Day 23: BST Level-Order Traversal\n",
    "A level-order traversal, also known as a breadth-first search, visits each level of a tree's nodes from left to right, top to bottom. You are given a pointer, root, pointing to the root of a binary search tree. Complete the levelOrder function provided in your editor so that it prints the level-order traversal of the binary search tree.\n",
    "\n",
    "Sample Output\n",
    "\n",
    "3 \n",
    "\n",
    "5 \n",
    "\n",
    "1 \n",
    "\n",
    "4 \n",
    "\n",
    "7 "
   ]
  },
  {
   "cell_type": "code",
   "execution_count": 5,
   "metadata": {},
   "outputs": [
    {
     "name": "stdout",
     "output_type": "stream",
     "text": [
      "6\n",
      "3\n",
      "5\n",
      "4\n",
      "7\n",
      "2\n",
      "1\n",
      "\n",
      "\n",
      "3 2 5 1 4 7 "
     ]
    }
   ],
   "source": [
    "import sys\n",
    "class Node:\n",
    "    def __init__(self, data):\n",
    "        self.right = self.left = None\n",
    "        self.data = data\n",
    "\n",
    "\n",
    "class Solution:\n",
    "    def insert(self, root, data):\n",
    "        if root == None:\n",
    "            return Node(data)\n",
    "        else:\n",
    "            if data <= root.data:\n",
    "                cur = self.insert(root.left, data)\n",
    "                root.left = cur\n",
    "            else:\n",
    "                cur = self.insert(root.right, data)\n",
    "                root.right = cur\n",
    "        return root\n",
    "    \n",
    "    def levelOrder(self, root):\n",
    "        q = [root]\n",
    "        for current in q:\n",
    "            if current:\n",
    "                print(current.data, end = \" \")\n",
    "                q.append(current.left)\n",
    "                q.append(current.right)\n",
    "\n",
    "t = int(input())\n",
    "tree = Solution()\n",
    "root = None\n",
    "for i in range(t):\n",
    "    data = int(input())\n",
    "    root = tree.insert(root, data)\n",
    "print('\\n')\n",
    "tree.levelOrder(root)"
   ]
  },
  {
   "cell_type": "markdown",
   "metadata": {},
   "source": [
    "### Day 24: More Linked Lists\n",
    "A Node class is provided for you in the editor. A Node object has an integer data field, data, and a Node instance pointer, next, pointing to another node (i.e.: the next node in a list).\n",
    "\n",
    "A removeDuplicates function is declared in your editor, which takes a pointer to the head node of a linked list as a parameter. Complete removeDuplicates so that it deletes any duplicate nodes from the list and returns the head of the updated list\n",
    "\n",
    "Sample Input\n",
    "\n",
    "6\n",
    "\n",
    "1\n",
    "\n",
    "2\n",
    "\n",
    "2\n",
    "\n",
    "3\n",
    "\n",
    "3\n",
    "\n",
    "4\n",
    "\n",
    "Sample Output\n",
    "\n",
    "1 2 3 4 "
   ]
  },
  {
   "cell_type": "code",
   "execution_count": 9,
   "metadata": {},
   "outputs": [
    {
     "name": "stdout",
     "output_type": "stream",
     "text": [
      "6\n",
      "1\n",
      "2\n",
      "2\n",
      "3\n",
      "3\n",
      "4\n",
      "1 2 3 4 "
     ]
    }
   ],
   "source": [
    "class Node:\n",
    "    def __init__(self, data):\n",
    "        self.data = data\n",
    "        self.next = None\n",
    "\n",
    "class Solution:\n",
    "    def insert(self, head, data):\n",
    "            p = Node(data)\n",
    "            if head == None:\n",
    "                head = p\n",
    "            elif head.next == None:\n",
    "                head.next = p\n",
    "            else:\n",
    "                start = head\n",
    "                while(start.next != None):\n",
    "                    start = start.next\n",
    "                start.next = p\n",
    "            return head\n",
    "    def display(self, head):\n",
    "        current = head\n",
    "        while current:\n",
    "            print(current.data, end = \" \")\n",
    "            current = current.next\n",
    "        \n",
    "    def removeDuplicates(self,head):\n",
    "        current = head\n",
    "        while (current.next):\n",
    "            if (current.data == current.next.data):\n",
    "                current.next = current.next.next\n",
    "            else:\n",
    "                current = current.next\n",
    "        return head   \n",
    "list = Solution()\n",
    "t = int(input())\n",
    "head = None\n",
    "for i in range(t):\n",
    "    data = int(input())\n",
    "    head = list.insert(head, data)\n",
    "head = list.removeDuplicates(head)\n",
    "list.display(head)"
   ]
  },
  {
   "cell_type": "markdown",
   "metadata": {},
   "source": [
    "#### Day 25: Running Time and Complexity\n",
    "A prime is a natural number greater than 1 that has no positive divisors other than 1 and itself. Given a number, n, determine and print whether it is Prime or Not prime.\n",
    "\n",
    "Sample Input\n",
    "\n",
    "3\n",
    "\n",
    "12\n",
    "\n",
    "5\n",
    "\n",
    "7\n",
    "\n",
    "Sample Output\n",
    "\n",
    "Not prime\n",
    "\n",
    "Prime\n",
    "\n",
    "Prime"
   ]
  },
  {
   "cell_type": "code",
   "execution_count": 10,
   "metadata": {},
   "outputs": [
    {
     "name": "stdout",
     "output_type": "stream",
     "text": [
      "3\n",
      "12\n",
      "Not prime\n",
      "5\n",
      "Prime\n",
      "7\n",
      "Prime\n"
     ]
    }
   ],
   "source": [
    "import math\n",
    "\n",
    "def is_prime(num):\n",
    "    if num == 1:\n",
    "        return \"Not prime\"\n",
    "    sq = int(math.sqrt(num))\n",
    "    for x in range(2, sq + 1):\n",
    "        if num % x == 0:\n",
    "            return \"Not prime\"\n",
    "    return \"Prime\"\n",
    "    \n",
    "t = int(input())\n",
    "for i in range(t):\n",
    "    number = int(input())\n",
    "    print(is_prime(number))"
   ]
  },
  {
   "cell_type": "markdown",
   "metadata": {},
   "source": [
    "### Day 26: Nested Logic\n",
    "Your local library needs your help! Given the expected and actual return dates for a library book, create a program that calculates the fine (if any). The fee structure is as follows:\n",
    "\n",
    "1.If the book is returned on or before the expected return date, no fine will be charged (i.e.: fine = 0).\n",
    "\n",
    "2.If the book is returned after the expected return day but still within the same calendar month and year as the expected return date, fine = 15 Hackos * (the number of days late).\n",
    "\n",
    "3.If the book is returned after the expected return month but still within the same calendar year as the expected return date, the fine = 500 Hackos * (the number of months late).\n",
    "\n",
    "4.If the book is returned after the calendar year in which it was expected, there is a fixed fine of 10000 Hackos."
   ]
  },
  {
   "cell_type": "code",
   "execution_count": 11,
   "metadata": {},
   "outputs": [
    {
     "name": "stdout",
     "output_type": "stream",
     "text": [
      "09 6 2015\n",
      "06 06 2015\n",
      "45\n"
     ]
    }
   ],
   "source": [
    "da, ma, ya = input().split(' ')\n",
    "da = int(da)\n",
    "ma = int(ma)\n",
    "ya = int(ya)\n",
    "de, me, ye = input().split(' ')\n",
    "de = int(de)\n",
    "me = int(me)\n",
    "ye = int(ye)\n",
    "fine = 0\n",
    "if(ye==ya):\n",
    "    if(me < ma):\n",
    "        fine = (ma - me) * 500\n",
    "    elif((me == ma) and (de < da)):\n",
    "        fine = (da - de) * 15\n",
    "elif(ye < ya):\n",
    "    fine = 10000\n",
    "\n",
    "print( fine )"
   ]
  },
  {
   "cell_type": "markdown",
   "metadata": {},
   "source": [
    "### Day 28: RegEx, Patterns, and Intro to Databases\n",
    "Consider a database table, Emails, which has the attributes First Name and Email ID. Given N rows of data simulating the Emails table, print an alphabetically-ordered list of people whose email address ends in @gmail.com."
   ]
  },
  {
   "cell_type": "code",
   "execution_count": 22,
   "metadata": {},
   "outputs": [
    {
     "name": "stdout",
     "output_type": "stream",
     "text": [
      "6\n",
      "riya riya@gmail.com\n",
      "julia julia@julia.me\n",
      "julia sjulia@gmail.com\n",
      "julia julia@gmail.com\n",
      "samantha samantha@gmail.com\n",
      "tanya tanya@gmail.com\n",
      "Names: \n",
      "julia\n",
      "julia\n",
      "riya\n",
      "samantha\n",
      "tanya\n"
     ]
    }
   ],
   "source": [
    "A = []\n",
    "for i in range(int(input())):\n",
    "    name, email = map(str, input().split())\n",
    "    if email.endswith('@gmail.com'):\n",
    "        A.append(name)\n",
    "print(\"Names: \")\n",
    "for i in sorted(A):\n",
    "    print(i)"
   ]
  },
  {
   "cell_type": "markdown",
   "metadata": {},
   "source": [
    "### Day 29: Bitwise AND\n",
    "Given set S = {1,2,3,..,N}. Find two integers, A and B (where A < B), from set S such that the value of A & B is the maximum possible and also less than a given integer, K. In this case, & represents the bitwise AND operator."
   ]
  },
  {
   "cell_type": "code",
   "execution_count": 25,
   "metadata": {},
   "outputs": [
    {
     "name": "stdout",
     "output_type": "stream",
     "text": [
      "3\n",
      "5 2\n",
      "Value:  1\n",
      "8 5\n",
      "Value:  4\n",
      "2 2\n",
      "Value:  0\n"
     ]
    }
   ],
   "source": [
    "for i in range(int(input())):\n",
    "    n, k = map(int, input().split())\n",
    "    print('Value: ', k - 1 if ((k - 1) | k) <= n else k - 2)"
   ]
  }
 ],
 "metadata": {
  "kernelspec": {
   "display_name": "Python 3",
   "language": "python",
   "name": "python3"
  },
  "language_info": {
   "codemirror_mode": {
    "name": "ipython",
    "version": 3
   },
   "file_extension": ".py",
   "mimetype": "text/x-python",
   "name": "python",
   "nbconvert_exporter": "python",
   "pygments_lexer": "ipython3",
   "version": "3.8.5"
  }
 },
 "nbformat": 4,
 "nbformat_minor": 4
}
